{
 "cells": [
  {
   "cell_type": "markdown",
   "id": "81d22487",
   "metadata": {},
   "source": [
    "# Julia Basic Language Demo"
   ]
  },
  {
   "cell_type": "markdown",
   "id": "c44a76f5",
   "metadata": {},
   "source": [
    "Basic Language features"
   ]
  },
  {
   "cell_type": "code",
   "execution_count": null,
   "id": "26ecc81d-ede6-4e9c-87ae-c69f2ba3150f",
   "metadata": {},
   "outputs": [],
   "source": [
    "# define a variable \n",
    "r = 10\n",
    "τ = 2π #Julia directly supports UTF-8 Symbols"
   ]
  },
  {
   "cell_type": "code",
   "execution_count": null,
   "id": "34a2392b-6edd-488d-b032-e4e7632840ff",
   "metadata": {},
   "outputs": [],
   "source": [
    "# define a vector\n",
    "A = [1 2 3]"
   ]
  },
  {
   "cell_type": "code",
   "execution_count": null,
   "id": "075a31bc",
   "metadata": {},
   "outputs": [],
   "source": [
    "A = [1;2;3]"
   ]
  },
  {
   "cell_type": "code",
   "execution_count": null,
   "id": "80869858",
   "metadata": {},
   "outputs": [],
   "source": [
    "A = [[1 2 3];[4 5 6]]"
   ]
  },
  {
   "cell_type": "markdown",
   "id": "59fb6636",
   "metadata": {},
   "source": [
    "#### Include External Libraries\n",
    "External libraries can be included with the `using` keyword\n",
    "They can be installed with the Julia package manager `Pkg`"
   ]
  },
  {
   "cell_type": "code",
   "execution_count": null,
   "id": "765fa33c",
   "metadata": {},
   "outputs": [],
   "source": [
    "using Random\n",
    "using Plots\n",
    "using LaTeXStrings\n",
    "using Printf"
   ]
  },
  {
   "cell_type": "markdown",
   "id": "b533f643",
   "metadata": {},
   "source": [
    "#### Plots and Graphs\n",
    "Plots can be created in a similar fashion to MatLab or MatPlotLib"
   ]
  },
  {
   "cell_type": "code",
   "execution_count": null,
   "id": "0d0d3cf4",
   "metadata": {},
   "outputs": [],
   "source": [
    "# some linear algebra\n",
    "x = [ones(10) range(1,10)]\n",
    "y = x[:,2] .+ randn(10) .+ 2\n",
    "scatter(x[:,2],y, label=\"observed\")\n",
    "\n",
    "# matrix division by polynomial fitting\n",
    "b = x \\ y\n",
    "linmod_y = [b'*[1;1]; b'*[1;10]]\n",
    "plot!([1;10], linmod_y, label=\"LS approximation\")"
   ]
  },
  {
   "cell_type": "markdown",
   "id": "0a973478",
   "metadata": {},
   "source": [
    "## Monte Carlo Simulation to Calculate $\\pi$\n",
    "- Create $N$ random coordinates such that $(x, y)_n \\in [-1, 1]^2  |  x_n,y_n \\sim \\mathcal U(-1,1)$\n",
    "- Check if which points within the unit circle $x^2 + y^2 = 1$\n",
    "- $\\pi \\approx 4 \\frac{N_{in}}{N} $ "
   ]
  },
  {
   "cell_type": "code",
   "execution_count": null,
   "id": "242ec919",
   "metadata": {},
   "outputs": [],
   "source": [
    "# define a Julia function for the approximation\n",
    "function monte_carlo_pi(n_sim_points::Int64)\n",
    "    p_outside = Tuple{Float64, Float64}[]\n",
    "    p_inside = Tuple{Float64, Float64}[]\n",
    "    for i in 0:n_sim_points\n",
    "        # create two random numbers for x, y\n",
    "        x = 2*rand() - 1\n",
    "        y = 2*rand() - 1 \n",
    "        # if the norm is less then the radius, add to point n_outside\n",
    "        if sqrt(x^2 + y^2) > 1\n",
    "            push!(p_outside, (x,y))\n",
    "        else\n",
    "            push!(p_inside, (x,y))\n",
    "        end\n",
    "    end\n",
    "    return (p_outside, p_inside)\n",
    "end"
   ]
  },
  {
   "cell_type": "code",
   "execution_count": null,
   "id": "fde7f50e",
   "metadata": {},
   "outputs": [],
   "source": [
    "n_t = 20_000\n",
    "p_outside, p_inside = monte_carlo_pi(n_t)\n",
    "x_outside = [k[1] for k in p_outside]\n",
    "y_outside = [k[2] for k in p_outside]\n",
    "x_inside = [k[1] for k in p_inside]\n",
    "y_inside = [k[2] for k in p_inside]\n",
    "\n",
    "approx_π = 4 * length(p_inside)/n_t \n",
    "@printf \"π ≈ %f\" approx_π"
   ]
  },
  {
   "cell_type": "code",
   "execution_count": null,
   "id": "79959eaa",
   "metadata": {},
   "outputs": [],
   "source": [
    "scatter(x_outside, y_outside, \n",
    "    mc=:coral, title=L\"Approximate $\\pi$ with a Monte Carlo Simulation\",\n",
    "    label=\"out\", size=(550,550), xticks=-1:0.2:1, yticks=-1:0.2:1,\n",
    "    markerstrokecolor=:coral, markersize=2)\n",
    "scatter!(x_inside, y_inside, mc=:coral, markers=:limegreen, markerstrokecolor=:limegreen, markersize=2 ,label=\"in\")\n",
    "xs = range(0,2*pi,length=10000)\n",
    "\n",
    "# add an ideal circle\n",
    "circle_x = cos.(xs)\n",
    "circle_y = sin.(xs)\n",
    "plot!(circle_x, circle_y,linewidth=3,color=:darkcyan, label=\"\")"
   ]
  }
 ],
 "metadata": {
  "kernelspec": {
   "display_name": "Julia 1.9.3",
   "language": "julia",
   "name": "julia-1.9"
  },
  "language_info": {
   "file_extension": ".jl",
   "mimetype": "application/julia",
   "name": "julia",
   "version": "1.9.3"
  }
 },
 "nbformat": 4,
 "nbformat_minor": 5
}
