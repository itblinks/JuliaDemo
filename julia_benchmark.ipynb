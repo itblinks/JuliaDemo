{
 "cells": [
  {
   "cell_type": "markdown",
   "id": "2bf3a0e5-224e-4590-946a-2244f091fbaa",
   "metadata": {},
   "source": [
    "## Julia Execution Time in Comparison\n",
    "\n",
    "Code was simplified to only estimate $\\pi$ instead of storing all simulated points"
   ]
  },
  {
   "cell_type": "code",
   "execution_count": null,
   "id": "5ff43e89-067d-4dca-a071-b5af7149b2ab",
   "metadata": {},
   "outputs": [],
   "source": [
    "using BenchmarkTools\n",
    "using PyCall"
   ]
  },
  {
   "cell_type": "code",
   "execution_count": null,
   "id": "3af551e4-065e-4d40-8bc9-4530431673d6",
   "metadata": {},
   "outputs": [],
   "source": [
    "function bench_monte_carlo_pi_jl(n_sim_points::Int64)\n",
    "    n_in::Int64 = 0\n",
    "    for i in 0:n_sim_points\n",
    "        # create two random numbers for x, y\n",
    "        x = rand() - 0.5\n",
    "        y = rand() - 0.5\n",
    "        # if the norm is less then the radius, add to point n_outside\n",
    "        if x^2 + y^2 <= 0.25\n",
    "           n_in += 1 \n",
    "        end \n",
    "    end\n",
    "    return 4*n_in/n_sim_points\n",
    "end"
   ]
  },
  {
   "cell_type": "code",
   "execution_count": null,
   "id": "fea3b881-edbf-47c3-8a7b-7eeccb7c0a4e",
   "metadata": {},
   "outputs": [],
   "source": [
    "n_t = 1_000_000\n",
    "@benchmark bench_monte_carlo_pi_jl(n_t)"
   ]
  },
  {
   "cell_type": "markdown",
   "id": "02f1b051-2351-4dc2-9ebf-b022eae952b0",
   "metadata": {},
   "source": [
    "## Python\n",
    "Python execution is directly possible within Julia."
   ]
  },
  {
   "cell_type": "code",
   "execution_count": null,
   "id": "e7bf1311-21b9-4c43-b632-496ad94312d7",
   "metadata": {},
   "outputs": [],
   "source": [
    "py\"\"\"\n",
    "import random, math\n",
    "def bench_monte_carlo_pi_py(n_sim_points):\n",
    "    n_in = 0\n",
    "    for i in range(0,n_sim_points):\n",
    "        x = random.uniform(-0.5, 0.5)\n",
    "        y = random.uniform(-0.5, 0.5)\n",
    "        if x**2 + y**2 <= 0.25:\n",
    "            n_in +=1\n",
    "    return 4*n_in/n_sim_points\n",
    "\"\"\""
   ]
  },
  {
   "cell_type": "code",
   "execution_count": null,
   "id": "0c96cf6e-0084-4a58-b715-eee91bcf48ae",
   "metadata": {},
   "outputs": [],
   "source": [
    "@benchmark py\"bench_monte_carlo_pi_py\"(n_t)"
   ]
  },
  {
   "cell_type": "markdown",
   "id": "811bb4bd-b0e6-4148-9dab-919830de3e53",
   "metadata": {},
   "source": [
    "## C/C++\n",
    "\n",
    "Julia is able to load dynamically linked C/C++ libraries. This snipped compiles the C++ code with `clang` to a shared library and\n",
    "loads the library with `@ccall`"
   ]
  },
  {
   "cell_type": "code",
   "execution_count": null,
   "id": "3a7a060c-5540-449e-b15e-d3b4cd054cfc",
   "metadata": {},
   "outputs": [],
   "source": [
    "using Libdl\n",
    "c_code = \"\"\"\n",
    "#include <random>\n",
    "\n",
    "extern \"C\" double bench_monte_carlo_pi_c(int64_t n_sim_points) {\n",
    "  srand (time(NULL));\n",
    "  int64_t n_in = 0;\n",
    "  auto gen = std::default_random_engine();\n",
    "  auto distribution = std::uniform_real_distribution<double>(-0.5, 0.5);\n",
    "  \n",
    "  for (size_t i = 0; i < n_sim_points; i++) {\n",
    "    double x = distribution(gen);\n",
    "    double y = distribution(gen);\n",
    "    if (x * x + y * y <= 0.25) {\n",
    "      n_in++;\n",
    "    }\n",
    "  }\n",
    "  return 4 * double(n_in) / n_sim_points;\n",
    "}\n",
    "\"\"\"\n",
    "\n",
    "const Clib = tempname()\n",
    "open(`clang -shared -x c++ -O3 -std=c++20 -o $(Clib * \".\" * Libdl.dlext) -`, \"w\") do f\n",
    "    print(f, c_code)\n",
    "end"
   ]
  },
  {
   "cell_type": "code",
   "execution_count": null,
   "id": "09879ad8-9243-4038-b90c-ae597b396042",
   "metadata": {},
   "outputs": [],
   "source": [
    "@benchmark @ccall Clib.bench_monte_carlo_pi_c(n_t::Int64)::Float64"
   ]
  }
 ],
 "metadata": {
  "kernelspec": {
   "display_name": "Julia 1.9.3",
   "language": "julia",
   "name": "julia-1.9"
  },
  "language_info": {
   "file_extension": ".jl",
   "mimetype": "application/julia",
   "name": "julia",
   "version": "1.9.3"
  }
 },
 "nbformat": 4,
 "nbformat_minor": 5
}
